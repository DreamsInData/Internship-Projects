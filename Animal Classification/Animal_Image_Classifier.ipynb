{
  "cells": [
    {
      "cell_type": "code",
      "execution_count": null,
      "metadata": {
        "colab": {
          "base_uri": "https://localhost:8080/"
        },
        "id": "dg4UVea5PJ3W",
        "outputId": "449fdd42-395d-4955-e1dd-f36620604815"
      },
      "outputs": [
        {
          "name": "stdout",
          "output_type": "stream",
          "text": [
            "Drive already mounted at /content/drive; to attempt to forcibly remount, call drive.mount(\"/content/drive\", force_remount=True).\n"
          ]
        }
      ],
      "source": [
        "from google.colab import drive\n",
        "drive.mount('/content/drive')"
      ]
    },
    {
      "cell_type": "markdown",
      "metadata": {
        "id": "oVZVhBo1PyZM"
      },
      "source": [
        "**Importing Important Libraries**"
      ]
    },
    {
      "cell_type": "code",
      "execution_count": null,
      "metadata": {
        "id": "8Zv1QeonP8hb"
      },
      "outputs": [],
      "source": [
        "import os\n",
        "import numpy as np\n",
        "import matplotlib.pyplot as plt\n",
        "import tensorflow as tf\n",
        "from tensorflow.keras.preprocessing.image import ImageDataGenerator\n",
        "from tensorflow.keras.applications import MobileNetV2\n",
        "from tensorflow.keras.models import Sequential\n",
        "from tensorflow.keras.layers import Dense, GlobalAveragePooling2D"
      ]
    },
    {
      "cell_type": "markdown",
      "metadata": {
        "id": "AM10nGnUQHip"
      },
      "source": [
        "# Data Preprocessing & Augmentation**\n",
        "\n",
        "\n",
        "\n",
        "\n"
      ]
    },
    {
      "cell_type": "code",
      "execution_count": null,
      "metadata": {
        "colab": {
          "base_uri": "https://localhost:8080/"
        },
        "id": "c4ST_9ShQDIx",
        "outputId": "f88c1e6d-d21a-435c-f9df-6489d0d6294f"
      },
      "outputs": [
        {
          "name": "stdout",
          "output_type": "stream",
          "text": [
            "Found 1561 images belonging to 15 classes.\n",
            "Found 383 images belonging to 15 classes.\n"
          ]
        }
      ],
      "source": [
        "data_dir = \"/content/drive/MyDrive/Animal Classification/dataset\"\n",
        "\n",
        "# Image Augmentation\n",
        "train_datagen = ImageDataGenerator(\n",
        "    rescale=1./255,\n",
        "    validation_split=0.2,\n",
        "    rotation_range=20,\n",
        "    zoom_range=0.2,\n",
        "    horizontal_flip=True,\n",
        "    brightness_range=[0.3, 1.0]\n",
        ")\n",
        "\n",
        "train_generator = train_datagen.flow_from_directory(\n",
        "    data_dir,\n",
        "    target_size=(224, 224),\n",
        "    batch_size=32,\n",
        "    class_mode='categorical',\n",
        "    subset='training'\n",
        ")\n",
        "\n",
        "val_generator = train_datagen.flow_from_directory(\n",
        "    data_dir,\n",
        "    target_size=(224, 224),\n",
        "    batch_size=32,\n",
        "    class_mode='categorical',\n",
        "    subset='validation'\n",
        ")\n"
      ]
    },
    {
      "cell_type": "markdown",
      "metadata": {
        "id": "n0jfIHY3QZBu"
      },
      "source": [
        "# Build the Model (Transfer Learning with MobileNetV2)"
      ]
    },
    {
      "cell_type": "code",
      "execution_count": null,
      "metadata": {
        "id": "TKMPlZScQEDv"
      },
      "outputs": [],
      "source": [
        "base_model = MobileNetV2(input_shape=(224, 224, 3), include_top=False, weights='imagenet')\n",
        "base_model.trainable = False\n",
        "\n",
        "model = Sequential([\n",
        "    base_model,\n",
        "    GlobalAveragePooling2D(),\n",
        "    Dense(256, activation='relu'),\n",
        "    Dense(15, activation='softmax')  # 15 classes\n",
        "])\n"
      ]
    },
    {
      "cell_type": "markdown",
      "metadata": {
        "id": "z6KocEFDRIZX"
      },
      "source": [
        "# Compile the Model"
      ]
    },
    {
      "cell_type": "code",
      "execution_count": null,
      "metadata": {
        "id": "9BUYo5obRDu-"
      },
      "outputs": [],
      "source": [
        "model.compile(\n",
        "    optimizer='adam',\n",
        "    loss='categorical_crossentropy',\n",
        "    metrics=['accuracy']\n",
        ")\n"
      ]
    },
    {
      "cell_type": "markdown",
      "metadata": {
        "id": "UfNBjsPgRQlU"
      },
      "source": [
        "# Train the Model"
      ]
    },
    {
      "cell_type": "code",
      "execution_count": 52,
      "metadata": {
        "colab": {
          "base_uri": "https://localhost:8080/"
        },
        "id": "oYyk6jddROfj",
        "outputId": "f98f484e-8eac-4028-8a25-91b2f30a8d43"
      },
      "outputs": [
        {
          "name": "stderr",
          "output_type": "stream",
          "text": [
            "/usr/local/lib/python3.11/dist-packages/keras/src/trainers/data_adapters/py_dataset_adapter.py:121: UserWarning: Your `PyDataset` class should call `super().__init__(**kwargs)` in its constructor. `**kwargs` can include `workers`, `use_multiprocessing`, `max_queue_size`. Do not pass these arguments to `fit()`, as they will be ignored.\n",
            "  self._warn_if_super_not_called()\n"
          ]
        },
        {
          "name": "stdout",
          "output_type": "stream",
          "text": [
            "Epoch 1/100\n",
            "\u001b[1m49/49\u001b[0m \u001b[32m━━━━━━━━━━━━━━━━━━━━\u001b[0m\u001b[37m\u001b[0m \u001b[1m46s\u001b[0m 797ms/step - accuracy: 0.4315 - loss: 1.9489 - val_accuracy: 0.7232 - val_loss: 0.9180\n",
            "Epoch 2/100\n",
            "\u001b[1m49/49\u001b[0m \u001b[32m━━━━━━━━━━━━━━━━━━━━\u001b[0m\u001b[37m\u001b[0m \u001b[1m35s\u001b[0m 727ms/step - accuracy: 0.8120 - loss: 0.6141 - val_accuracy: 0.7415 - val_loss: 0.8451\n",
            "Epoch 3/100\n",
            "\u001b[1m49/49\u001b[0m \u001b[32m━━━━━━━━━━━━━━━━━━━━\u001b[0m\u001b[37m\u001b[0m \u001b[1m30s\u001b[0m 624ms/step - accuracy: 0.8471 - loss: 0.5105 - val_accuracy: 0.7598 - val_loss: 0.7450\n",
            "Epoch 4/100\n",
            "\u001b[1m49/49\u001b[0m \u001b[32m━━━━━━━━━━━━━━━━━━━━\u001b[0m\u001b[37m\u001b[0m \u001b[1m31s\u001b[0m 641ms/step - accuracy: 0.8671 - loss: 0.4197 - val_accuracy: 0.7572 - val_loss: 0.7366\n",
            "Epoch 5/100\n",
            "\u001b[1m49/49\u001b[0m \u001b[32m━━━━━━━━━━━━━━━━━━━━\u001b[0m\u001b[37m\u001b[0m \u001b[1m32s\u001b[0m 652ms/step - accuracy: 0.8887 - loss: 0.3391 - val_accuracy: 0.7937 - val_loss: 0.7015\n",
            "Epoch 6/100\n",
            "\u001b[1m49/49\u001b[0m \u001b[32m━━━━━━━━━━━━━━━━━━━━\u001b[0m\u001b[37m\u001b[0m \u001b[1m31s\u001b[0m 633ms/step - accuracy: 0.8959 - loss: 0.3452 - val_accuracy: 0.8172 - val_loss: 0.6335\n",
            "Epoch 7/100\n",
            "\u001b[1m49/49\u001b[0m \u001b[32m━━━━━━━━━━━━━━━━━━━━\u001b[0m\u001b[37m\u001b[0m \u001b[1m31s\u001b[0m 627ms/step - accuracy: 0.9012 - loss: 0.2930 - val_accuracy: 0.7963 - val_loss: 0.7341\n",
            "Epoch 8/100\n",
            "\u001b[1m49/49\u001b[0m \u001b[32m━━━━━━━━━━━━━━━━━━━━\u001b[0m\u001b[37m\u001b[0m \u001b[1m43s\u001b[0m 667ms/step - accuracy: 0.9209 - loss: 0.2589 - val_accuracy: 0.7781 - val_loss: 0.6901\n",
            "Epoch 9/100\n",
            "\u001b[1m49/49\u001b[0m \u001b[32m━━━━━━━━━━━━━━━━━━━━\u001b[0m\u001b[37m\u001b[0m \u001b[1m36s\u001b[0m 733ms/step - accuracy: 0.9063 - loss: 0.2957 - val_accuracy: 0.8016 - val_loss: 0.6509\n",
            "Epoch 10/100\n",
            "\u001b[1m49/49\u001b[0m \u001b[32m━━━━━━━━━━━━━━━━━━━━\u001b[0m\u001b[37m\u001b[0m \u001b[1m32s\u001b[0m 666ms/step - accuracy: 0.9092 - loss: 0.2668 - val_accuracy: 0.8120 - val_loss: 0.6123\n",
            "Epoch 11/100\n",
            "\u001b[1m49/49\u001b[0m \u001b[32m━━━━━━━━━━━━━━━━━━━━\u001b[0m\u001b[37m\u001b[0m \u001b[1m31s\u001b[0m 630ms/step - accuracy: 0.9158 - loss: 0.2299 - val_accuracy: 0.8016 - val_loss: 0.6544\n",
            "Epoch 12/100\n",
            "\u001b[1m49/49\u001b[0m \u001b[32m━━━━━━━━━━━━━━━━━━━━\u001b[0m\u001b[37m\u001b[0m \u001b[1m31s\u001b[0m 633ms/step - accuracy: 0.9263 - loss: 0.2468 - val_accuracy: 0.7937 - val_loss: 0.7135\n",
            "Epoch 13/100\n",
            "\u001b[1m49/49\u001b[0m \u001b[32m━━━━━━━━━━━━━━━━━━━━\u001b[0m\u001b[37m\u001b[0m \u001b[1m32s\u001b[0m 662ms/step - accuracy: 0.9269 - loss: 0.2354 - val_accuracy: 0.8146 - val_loss: 0.6480\n",
            "Epoch 14/100\n",
            "\u001b[1m49/49\u001b[0m \u001b[32m━━━━━━━━━━━━━━━━━━━━\u001b[0m\u001b[37m\u001b[0m \u001b[1m31s\u001b[0m 635ms/step - accuracy: 0.9205 - loss: 0.2340 - val_accuracy: 0.7728 - val_loss: 0.8011\n",
            "Epoch 15/100\n",
            "\u001b[1m49/49\u001b[0m \u001b[32m━━━━━━━━━━━━━━━━━━━━\u001b[0m\u001b[37m\u001b[0m \u001b[1m31s\u001b[0m 633ms/step - accuracy: 0.9278 - loss: 0.2107 - val_accuracy: 0.8016 - val_loss: 0.6391\n",
            "Epoch 16/100\n",
            "\u001b[1m49/49\u001b[0m \u001b[32m━━━━━━━━━━━━━━━━━━━━\u001b[0m\u001b[37m\u001b[0m \u001b[1m32s\u001b[0m 660ms/step - accuracy: 0.9229 - loss: 0.2375 - val_accuracy: 0.7885 - val_loss: 0.6247\n",
            "Epoch 17/100\n",
            "\u001b[1m49/49\u001b[0m \u001b[32m━━━━━━━━━━━━━━━━━━━━\u001b[0m\u001b[37m\u001b[0m \u001b[1m31s\u001b[0m 636ms/step - accuracy: 0.9316 - loss: 0.1988 - val_accuracy: 0.7963 - val_loss: 0.7165\n",
            "Epoch 18/100\n",
            "\u001b[1m49/49\u001b[0m \u001b[32m━━━━━━━━━━━━━━━━━━━━\u001b[0m\u001b[37m\u001b[0m \u001b[1m31s\u001b[0m 634ms/step - accuracy: 0.9501 - loss: 0.1652 - val_accuracy: 0.8355 - val_loss: 0.5959\n",
            "Epoch 19/100\n",
            "\u001b[1m49/49\u001b[0m \u001b[32m━━━━━━━━━━━━━━━━━━━━\u001b[0m\u001b[37m\u001b[0m \u001b[1m36s\u001b[0m 732ms/step - accuracy: 0.9406 - loss: 0.1750 - val_accuracy: 0.8407 - val_loss: 0.6051\n",
            "Epoch 20/100\n",
            "\u001b[1m49/49\u001b[0m \u001b[32m━━━━━━━━━━━━━━━━━━━━\u001b[0m\u001b[37m\u001b[0m \u001b[1m31s\u001b[0m 633ms/step - accuracy: 0.9339 - loss: 0.1865 - val_accuracy: 0.8146 - val_loss: 0.7122\n",
            "Epoch 21/100\n",
            "\u001b[1m49/49\u001b[0m \u001b[32m━━━━━━━━━━━━━━━━━━━━\u001b[0m\u001b[37m\u001b[0m \u001b[1m31s\u001b[0m 645ms/step - accuracy: 0.9358 - loss: 0.2131 - val_accuracy: 0.7676 - val_loss: 0.7081\n",
            "Epoch 22/100\n",
            "\u001b[1m49/49\u001b[0m \u001b[32m━━━━━━━━━━━━━━━━━━━━\u001b[0m\u001b[37m\u001b[0m \u001b[1m32s\u001b[0m 641ms/step - accuracy: 0.9515 - loss: 0.1584 - val_accuracy: 0.8120 - val_loss: 0.6619\n",
            "Epoch 23/100\n",
            "\u001b[1m49/49\u001b[0m \u001b[32m━━━━━━━━━━━━━━━━━━━━\u001b[0m\u001b[37m\u001b[0m \u001b[1m31s\u001b[0m 641ms/step - accuracy: 0.9569 - loss: 0.1455 - val_accuracy: 0.8303 - val_loss: 0.6427\n",
            "Epoch 24/100\n",
            "\u001b[1m49/49\u001b[0m \u001b[32m━━━━━━━━━━━━━━━━━━━━\u001b[0m\u001b[37m\u001b[0m \u001b[1m33s\u001b[0m 669ms/step - accuracy: 0.9442 - loss: 0.1895 - val_accuracy: 0.8277 - val_loss: 0.5781\n",
            "Epoch 25/100\n",
            "\u001b[1m49/49\u001b[0m \u001b[32m━━━━━━━━━━━━━━━━━━━━\u001b[0m\u001b[37m\u001b[0m \u001b[1m32s\u001b[0m 650ms/step - accuracy: 0.9441 - loss: 0.1677 - val_accuracy: 0.8198 - val_loss: 0.7450\n",
            "Epoch 26/100\n",
            "\u001b[1m49/49\u001b[0m \u001b[32m━━━━━━━━━━━━━━━━━━━━\u001b[0m\u001b[37m\u001b[0m \u001b[1m31s\u001b[0m 639ms/step - accuracy: 0.9419 - loss: 0.1741 - val_accuracy: 0.7937 - val_loss: 0.7900\n",
            "Epoch 27/100\n",
            "\u001b[1m49/49\u001b[0m \u001b[32m━━━━━━━━━━━━━━━━━━━━\u001b[0m\u001b[37m\u001b[0m \u001b[1m36s\u001b[0m 731ms/step - accuracy: 0.9483 - loss: 0.1632 - val_accuracy: 0.8225 - val_loss: 0.6510\n",
            "Epoch 28/100\n",
            "\u001b[1m49/49\u001b[0m \u001b[32m━━━━━━━━━━━━━━━━━━━━\u001b[0m\u001b[37m\u001b[0m \u001b[1m31s\u001b[0m 637ms/step - accuracy: 0.9440 - loss: 0.1585 - val_accuracy: 0.8016 - val_loss: 0.6917\n",
            "Epoch 29/100\n",
            "\u001b[1m49/49\u001b[0m \u001b[32m━━━━━━━━━━━━━━━━━━━━\u001b[0m\u001b[37m\u001b[0m \u001b[1m36s\u001b[0m 744ms/step - accuracy: 0.9525 - loss: 0.1558 - val_accuracy: 0.7990 - val_loss: 0.7218\n",
            "Epoch 30/100\n",
            "\u001b[1m49/49\u001b[0m \u001b[32m━━━━━━━━━━━━━━━━━━━━\u001b[0m\u001b[37m\u001b[0m \u001b[1m31s\u001b[0m 645ms/step - accuracy: 0.9393 - loss: 0.1532 - val_accuracy: 0.8094 - val_loss: 0.6916\n",
            "Epoch 31/100\n",
            "\u001b[1m49/49\u001b[0m \u001b[32m━━━━━━━━━━━━━━━━━━━━\u001b[0m\u001b[37m\u001b[0m \u001b[1m36s\u001b[0m 733ms/step - accuracy: 0.9479 - loss: 0.1545 - val_accuracy: 0.8172 - val_loss: 0.7391\n",
            "Epoch 32/100\n",
            "\u001b[1m49/49\u001b[0m \u001b[32m━━━━━━━━━━━━━━━━━━━━\u001b[0m\u001b[37m\u001b[0m \u001b[1m31s\u001b[0m 631ms/step - accuracy: 0.9454 - loss: 0.1503 - val_accuracy: 0.8251 - val_loss: 0.6321\n",
            "Epoch 33/100\n",
            "\u001b[1m49/49\u001b[0m \u001b[32m━━━━━━━━━━━━━━━━━━━━\u001b[0m\u001b[37m\u001b[0m \u001b[1m36s\u001b[0m 730ms/step - accuracy: 0.9630 - loss: 0.1307 - val_accuracy: 0.8172 - val_loss: 0.6780\n",
            "Epoch 34/100\n",
            "\u001b[1m49/49\u001b[0m \u001b[32m━━━━━━━━━━━━━━━━━━━━\u001b[0m\u001b[37m\u001b[0m \u001b[1m30s\u001b[0m 627ms/step - accuracy: 0.9571 - loss: 0.1265 - val_accuracy: 0.8120 - val_loss: 0.6820\n",
            "Epoch 35/100\n",
            "\u001b[1m49/49\u001b[0m \u001b[32m━━━━━━━━━━━━━━━━━━━━\u001b[0m\u001b[37m\u001b[0m \u001b[1m30s\u001b[0m 625ms/step - accuracy: 0.9587 - loss: 0.1428 - val_accuracy: 0.8198 - val_loss: 0.6293\n",
            "Epoch 36/100\n",
            "\u001b[1m49/49\u001b[0m \u001b[32m━━━━━━━━━━━━━━━━━━━━\u001b[0m\u001b[37m\u001b[0m \u001b[1m42s\u001b[0m 652ms/step - accuracy: 0.9562 - loss: 0.1377 - val_accuracy: 0.8329 - val_loss: 0.6491\n",
            "Epoch 37/100\n",
            "\u001b[1m49/49\u001b[0m \u001b[32m━━━━━━━━━━━━━━━━━━━━\u001b[0m\u001b[37m\u001b[0m \u001b[1m41s\u001b[0m 652ms/step - accuracy: 0.9528 - loss: 0.1219 - val_accuracy: 0.8433 - val_loss: 0.6173\n",
            "Epoch 38/100\n",
            "\u001b[1m49/49\u001b[0m \u001b[32m━━━━━━━━━━━━━━━━━━━━\u001b[0m\u001b[37m\u001b[0m \u001b[1m31s\u001b[0m 626ms/step - accuracy: 0.9551 - loss: 0.1322 - val_accuracy: 0.7755 - val_loss: 0.9455\n",
            "Epoch 39/100\n",
            "\u001b[1m49/49\u001b[0m \u001b[32m━━━━━━━━━━━━━━━━━━━━\u001b[0m\u001b[37m\u001b[0m \u001b[1m31s\u001b[0m 628ms/step - accuracy: 0.9516 - loss: 0.1593 - val_accuracy: 0.7781 - val_loss: 0.8190\n",
            "Epoch 40/100\n",
            "\u001b[1m49/49\u001b[0m \u001b[32m━━━━━━━━━━━━━━━━━━━━\u001b[0m\u001b[37m\u001b[0m \u001b[1m32s\u001b[0m 649ms/step - accuracy: 0.9513 - loss: 0.1453 - val_accuracy: 0.7990 - val_loss: 0.8922\n",
            "Epoch 41/100\n",
            "\u001b[1m49/49\u001b[0m \u001b[32m━━━━━━━━━━━━━━━━━━━━\u001b[0m\u001b[37m\u001b[0m \u001b[1m41s\u001b[0m 657ms/step - accuracy: 0.9528 - loss: 0.1712 - val_accuracy: 0.7885 - val_loss: 0.6630\n",
            "Epoch 42/100\n",
            "\u001b[1m49/49\u001b[0m \u001b[32m━━━━━━━━━━━━━━━━━━━━\u001b[0m\u001b[37m\u001b[0m \u001b[1m31s\u001b[0m 628ms/step - accuracy: 0.9539 - loss: 0.1437 - val_accuracy: 0.8198 - val_loss: 0.6099\n",
            "Epoch 43/100\n",
            "\u001b[1m49/49\u001b[0m \u001b[32m━━━━━━━━━━━━━━━━━━━━\u001b[0m\u001b[37m\u001b[0m \u001b[1m31s\u001b[0m 627ms/step - accuracy: 0.9646 - loss: 0.1135 - val_accuracy: 0.8042 - val_loss: 0.6820\n",
            "Epoch 44/100\n",
            "\u001b[1m49/49\u001b[0m \u001b[32m━━━━━━━━━━━━━━━━━━━━\u001b[0m\u001b[37m\u001b[0m \u001b[1m35s\u001b[0m 728ms/step - accuracy: 0.9584 - loss: 0.1402 - val_accuracy: 0.8225 - val_loss: 0.6277\n",
            "Epoch 45/100\n",
            "\u001b[1m49/49\u001b[0m \u001b[32m━━━━━━━━━━━━━━━━━━━━\u001b[0m\u001b[37m\u001b[0m \u001b[1m31s\u001b[0m 629ms/step - accuracy: 0.9609 - loss: 0.1118 - val_accuracy: 0.7833 - val_loss: 0.6904\n",
            "Epoch 46/100\n",
            "\u001b[1m49/49\u001b[0m \u001b[32m━━━━━━━━━━━━━━━━━━━━\u001b[0m\u001b[37m\u001b[0m \u001b[1m31s\u001b[0m 640ms/step - accuracy: 0.9729 - loss: 0.0865 - val_accuracy: 0.8329 - val_loss: 0.6845\n",
            "Epoch 47/100\n",
            "\u001b[1m49/49\u001b[0m \u001b[32m━━━━━━━━━━━━━━━━━━━━\u001b[0m\u001b[37m\u001b[0m \u001b[1m42s\u001b[0m 659ms/step - accuracy: 0.9676 - loss: 0.1025 - val_accuracy: 0.8251 - val_loss: 0.6378\n",
            "Epoch 48/100\n",
            "\u001b[1m49/49\u001b[0m \u001b[32m━━━━━━━━━━━━━━━━━━━━\u001b[0m\u001b[37m\u001b[0m \u001b[1m31s\u001b[0m 629ms/step - accuracy: 0.9617 - loss: 0.1108 - val_accuracy: 0.8251 - val_loss: 0.6214\n",
            "Epoch 49/100\n",
            "\u001b[1m49/49\u001b[0m \u001b[32m━━━━━━━━━━━━━━━━━━━━\u001b[0m\u001b[37m\u001b[0m \u001b[1m31s\u001b[0m 629ms/step - accuracy: 0.9647 - loss: 0.1048 - val_accuracy: 0.8016 - val_loss: 0.7411\n",
            "Epoch 50/100\n",
            "\u001b[1m49/49\u001b[0m \u001b[32m━━━━━━━━━━━━━━━━━━━━\u001b[0m\u001b[37m\u001b[0m \u001b[1m35s\u001b[0m 725ms/step - accuracy: 0.9585 - loss: 0.1127 - val_accuracy: 0.8094 - val_loss: 0.6787\n",
            "Epoch 51/100\n",
            "\u001b[1m49/49\u001b[0m \u001b[32m━━━━━━━━━━━━━━━━━━━━\u001b[0m\u001b[37m\u001b[0m \u001b[1m31s\u001b[0m 632ms/step - accuracy: 0.9674 - loss: 0.1125 - val_accuracy: 0.8120 - val_loss: 0.6515\n",
            "Epoch 52/100\n",
            "\u001b[1m49/49\u001b[0m \u001b[32m━━━━━━━━━━━━━━━━━━━━\u001b[0m\u001b[37m\u001b[0m \u001b[1m32s\u001b[0m 656ms/step - accuracy: 0.9618 - loss: 0.1133 - val_accuracy: 0.8016 - val_loss: 0.6833\n",
            "Epoch 53/100\n",
            "\u001b[1m49/49\u001b[0m \u001b[32m━━━━━━━━━━━━━━━━━━━━\u001b[0m\u001b[37m\u001b[0m \u001b[1m42s\u001b[0m 674ms/step - accuracy: 0.9564 - loss: 0.1235 - val_accuracy: 0.8042 - val_loss: 0.9213\n",
            "Epoch 54/100\n",
            "\u001b[1m49/49\u001b[0m \u001b[32m━━━━━━━━━━━━━━━━━━━━\u001b[0m\u001b[37m\u001b[0m \u001b[1m31s\u001b[0m 644ms/step - accuracy: 0.9616 - loss: 0.1223 - val_accuracy: 0.7990 - val_loss: 0.6918\n",
            "Epoch 55/100\n",
            "\u001b[1m49/49\u001b[0m \u001b[32m━━━━━━━━━━━━━━━━━━━━\u001b[0m\u001b[37m\u001b[0m \u001b[1m31s\u001b[0m 640ms/step - accuracy: 0.9501 - loss: 0.1362 - val_accuracy: 0.7990 - val_loss: 0.7267\n",
            "Epoch 56/100\n",
            "\u001b[1m49/49\u001b[0m \u001b[32m━━━━━━━━━━━━━━━━━━━━\u001b[0m\u001b[37m\u001b[0m \u001b[1m33s\u001b[0m 682ms/step - accuracy: 0.9693 - loss: 0.1008 - val_accuracy: 0.7937 - val_loss: 0.8338\n",
            "Epoch 57/100\n",
            "\u001b[1m49/49\u001b[0m \u001b[32m━━━━━━━━━━━━━━━━━━━━\u001b[0m\u001b[37m\u001b[0m \u001b[1m35s\u001b[0m 711ms/step - accuracy: 0.9749 - loss: 0.0902 - val_accuracy: 0.8146 - val_loss: 0.7412\n",
            "Epoch 58/100\n",
            "\u001b[1m49/49\u001b[0m \u001b[32m━━━━━━━━━━━━━━━━━━━━\u001b[0m\u001b[37m\u001b[0m \u001b[1m33s\u001b[0m 676ms/step - accuracy: 0.9656 - loss: 0.1039 - val_accuracy: 0.8068 - val_loss: 0.8311\n",
            "Epoch 59/100\n",
            "\u001b[1m49/49\u001b[0m \u001b[32m━━━━━━━━━━━━━━━━━━━━\u001b[0m\u001b[37m\u001b[0m \u001b[1m31s\u001b[0m 642ms/step - accuracy: 0.9652 - loss: 0.1103 - val_accuracy: 0.8355 - val_loss: 0.5453\n",
            "Epoch 60/100\n",
            "\u001b[1m49/49\u001b[0m \u001b[32m━━━━━━━━━━━━━━━━━━━━\u001b[0m\u001b[37m\u001b[0m \u001b[1m31s\u001b[0m 636ms/step - accuracy: 0.9719 - loss: 0.0914 - val_accuracy: 0.7833 - val_loss: 0.8504\n",
            "Epoch 61/100\n",
            "\u001b[1m49/49\u001b[0m \u001b[32m━━━━━━━━━━━━━━━━━━━━\u001b[0m\u001b[37m\u001b[0m \u001b[1m32s\u001b[0m 659ms/step - accuracy: 0.9647 - loss: 0.0970 - val_accuracy: 0.7963 - val_loss: 0.7464\n",
            "Epoch 62/100\n",
            "\u001b[1m49/49\u001b[0m \u001b[32m━━━━━━━━━━━━━━━━━━━━\u001b[0m\u001b[37m\u001b[0m \u001b[1m31s\u001b[0m 635ms/step - accuracy: 0.9692 - loss: 0.0940 - val_accuracy: 0.8068 - val_loss: 0.7865\n",
            "Epoch 63/100\n",
            "\u001b[1m49/49\u001b[0m \u001b[32m━━━━━━━━━━━━━━━━━━━━\u001b[0m\u001b[37m\u001b[0m \u001b[1m31s\u001b[0m 635ms/step - accuracy: 0.9759 - loss: 0.0892 - val_accuracy: 0.7885 - val_loss: 0.7788\n",
            "Epoch 64/100\n",
            "\u001b[1m49/49\u001b[0m \u001b[32m━━━━━━━━━━━━━━━━━━━━\u001b[0m\u001b[37m\u001b[0m \u001b[1m32s\u001b[0m 664ms/step - accuracy: 0.9665 - loss: 0.1044 - val_accuracy: 0.8016 - val_loss: 0.7434\n",
            "Epoch 65/100\n",
            "\u001b[1m49/49\u001b[0m \u001b[32m━━━━━━━━━━━━━━━━━━━━\u001b[0m\u001b[37m\u001b[0m \u001b[1m31s\u001b[0m 640ms/step - accuracy: 0.9712 - loss: 0.0964 - val_accuracy: 0.7990 - val_loss: 0.8024\n",
            "Epoch 66/100\n",
            "\u001b[1m49/49\u001b[0m \u001b[32m━━━━━━━━━━━━━━━━━━━━\u001b[0m\u001b[37m\u001b[0m \u001b[1m31s\u001b[0m 638ms/step - accuracy: 0.9637 - loss: 0.0948 - val_accuracy: 0.7650 - val_loss: 0.8993\n",
            "Epoch 67/100\n",
            "\u001b[1m49/49\u001b[0m \u001b[32m━━━━━━━━━━━━━━━━━━━━\u001b[0m\u001b[37m\u001b[0m \u001b[1m32s\u001b[0m 658ms/step - accuracy: 0.9559 - loss: 0.1091 - val_accuracy: 0.8068 - val_loss: 0.7216\n",
            "Epoch 68/100\n",
            "\u001b[1m49/49\u001b[0m \u001b[32m━━━━━━━━━━━━━━━━━━━━\u001b[0m\u001b[37m\u001b[0m \u001b[1m31s\u001b[0m 635ms/step - accuracy: 0.9690 - loss: 0.0908 - val_accuracy: 0.8172 - val_loss: 0.8114\n",
            "Epoch 69/100\n",
            "\u001b[1m49/49\u001b[0m \u001b[32m━━━━━━━━━━━━━━━━━━━━\u001b[0m\u001b[37m\u001b[0m \u001b[1m31s\u001b[0m 640ms/step - accuracy: 0.9780 - loss: 0.0711 - val_accuracy: 0.8146 - val_loss: 0.7653\n",
            "Epoch 70/100\n",
            "\u001b[1m49/49\u001b[0m \u001b[32m━━━━━━━━━━━━━━━━━━━━\u001b[0m\u001b[37m\u001b[0m \u001b[1m36s\u001b[0m 732ms/step - accuracy: 0.9756 - loss: 0.0773 - val_accuracy: 0.8120 - val_loss: 0.7749\n",
            "Epoch 71/100\n",
            "\u001b[1m49/49\u001b[0m \u001b[32m━━━━━━━━━━━━━━━━━━━━\u001b[0m\u001b[37m\u001b[0m \u001b[1m31s\u001b[0m 633ms/step - accuracy: 0.9667 - loss: 0.0943 - val_accuracy: 0.7755 - val_loss: 0.9691\n",
            "Epoch 72/100\n",
            "\u001b[1m49/49\u001b[0m \u001b[32m━━━━━━━━━━━━━━━━━━━━\u001b[0m\u001b[37m\u001b[0m \u001b[1m36s\u001b[0m 730ms/step - accuracy: 0.9708 - loss: 0.0845 - val_accuracy: 0.8355 - val_loss: 0.6564\n",
            "Epoch 73/100\n",
            "\u001b[1m49/49\u001b[0m \u001b[32m━━━━━━━━━━━━━━━━━━━━\u001b[0m\u001b[37m\u001b[0m \u001b[1m31s\u001b[0m 635ms/step - accuracy: 0.9771 - loss: 0.0749 - val_accuracy: 0.7781 - val_loss: 0.9542\n",
            "Epoch 74/100\n",
            "\u001b[1m49/49\u001b[0m \u001b[32m━━━━━━━━━━━━━━━━━━━━\u001b[0m\u001b[37m\u001b[0m \u001b[1m31s\u001b[0m 641ms/step - accuracy: 0.9629 - loss: 0.1149 - val_accuracy: 0.7911 - val_loss: 0.8909\n",
            "Epoch 75/100\n",
            "\u001b[1m49/49\u001b[0m \u001b[32m━━━━━━━━━━━━━━━━━━━━\u001b[0m\u001b[37m\u001b[0m \u001b[1m42s\u001b[0m 657ms/step - accuracy: 0.9552 - loss: 0.1345 - val_accuracy: 0.8172 - val_loss: 0.8308\n",
            "Epoch 76/100\n",
            "\u001b[1m49/49\u001b[0m \u001b[32m━━━━━━━━━━━━━━━━━━━━\u001b[0m\u001b[37m\u001b[0m \u001b[1m31s\u001b[0m 629ms/step - accuracy: 0.9659 - loss: 0.1037 - val_accuracy: 0.8120 - val_loss: 0.8192\n",
            "Epoch 77/100\n",
            "\u001b[1m49/49\u001b[0m \u001b[32m━━━━━━━━━━━━━━━━━━━━\u001b[0m\u001b[37m\u001b[0m \u001b[1m31s\u001b[0m 627ms/step - accuracy: 0.9632 - loss: 0.1073 - val_accuracy: 0.8225 - val_loss: 0.7138\n",
            "Epoch 78/100\n",
            "\u001b[1m49/49\u001b[0m \u001b[32m━━━━━━━━━━━━━━━━━━━━\u001b[0m\u001b[37m\u001b[0m \u001b[1m35s\u001b[0m 722ms/step - accuracy: 0.9662 - loss: 0.1011 - val_accuracy: 0.8381 - val_loss: 0.6571\n",
            "Epoch 79/100\n",
            "\u001b[1m49/49\u001b[0m \u001b[32m━━━━━━━━━━━━━━━━━━━━\u001b[0m\u001b[37m\u001b[0m \u001b[1m31s\u001b[0m 629ms/step - accuracy: 0.9625 - loss: 0.1033 - val_accuracy: 0.8251 - val_loss: 0.7444\n",
            "Epoch 80/100\n",
            "\u001b[1m49/49\u001b[0m \u001b[32m━━━━━━━━━━━━━━━━━━━━\u001b[0m\u001b[37m\u001b[0m \u001b[1m31s\u001b[0m 638ms/step - accuracy: 0.9672 - loss: 0.1046 - val_accuracy: 0.8225 - val_loss: 0.8612\n",
            "Epoch 81/100\n",
            "\u001b[1m49/49\u001b[0m \u001b[32m━━━━━━━━━━━━━━━━━━━━\u001b[0m\u001b[37m\u001b[0m \u001b[1m45s\u001b[0m 729ms/step - accuracy: 0.9642 - loss: 0.1045 - val_accuracy: 0.8303 - val_loss: 0.6539\n",
            "Epoch 82/100\n",
            "\u001b[1m49/49\u001b[0m \u001b[32m━━━━━━━━━━━━━━━━━━━━\u001b[0m\u001b[37m\u001b[0m \u001b[1m31s\u001b[0m 632ms/step - accuracy: 0.9696 - loss: 0.0797 - val_accuracy: 0.8355 - val_loss: 0.7201\n",
            "Epoch 83/100\n",
            "\u001b[1m49/49\u001b[0m \u001b[32m━━━━━━━━━━━━━━━━━━━━\u001b[0m\u001b[37m\u001b[0m \u001b[1m35s\u001b[0m 726ms/step - accuracy: 0.9772 - loss: 0.0669 - val_accuracy: 0.8355 - val_loss: 0.6678\n",
            "Epoch 84/100\n",
            "\u001b[1m49/49\u001b[0m \u001b[32m━━━━━━━━━━━━━━━━━━━━\u001b[0m\u001b[37m\u001b[0m \u001b[1m31s\u001b[0m 633ms/step - accuracy: 0.9647 - loss: 0.1081 - val_accuracy: 0.8512 - val_loss: 0.6385\n",
            "Epoch 85/100\n",
            "\u001b[1m49/49\u001b[0m \u001b[32m━━━━━━━━━━━━━━━━━━━━\u001b[0m\u001b[37m\u001b[0m \u001b[1m36s\u001b[0m 730ms/step - accuracy: 0.9686 - loss: 0.0970 - val_accuracy: 0.8329 - val_loss: 0.7495\n",
            "Epoch 86/100\n",
            "\u001b[1m49/49\u001b[0m \u001b[32m━━━━━━━━━━━━━━━━━━━━\u001b[0m\u001b[37m\u001b[0m \u001b[1m31s\u001b[0m 636ms/step - accuracy: 0.9673 - loss: 0.1012 - val_accuracy: 0.8042 - val_loss: 0.8184\n",
            "Epoch 87/100\n",
            "\u001b[1m49/49\u001b[0m \u001b[32m━━━━━━━━━━━━━━━━━━━━\u001b[0m\u001b[37m\u001b[0m \u001b[1m31s\u001b[0m 642ms/step - accuracy: 0.9656 - loss: 0.0937 - val_accuracy: 0.7937 - val_loss: 0.8317\n",
            "Epoch 88/100\n",
            "\u001b[1m49/49\u001b[0m \u001b[32m━━━━━━━━━━━━━━━━━━━━\u001b[0m\u001b[37m\u001b[0m \u001b[1m32s\u001b[0m 641ms/step - accuracy: 0.9768 - loss: 0.0727 - val_accuracy: 0.8146 - val_loss: 0.9035\n",
            "Epoch 89/100\n",
            "\u001b[1m49/49\u001b[0m \u001b[32m━━━━━━━━━━━━━━━━━━━━\u001b[0m\u001b[37m\u001b[0m \u001b[1m31s\u001b[0m 633ms/step - accuracy: 0.9687 - loss: 0.1140 - val_accuracy: 0.8094 - val_loss: 0.8421\n",
            "Epoch 90/100\n",
            "\u001b[1m49/49\u001b[0m \u001b[32m━━━━━━━━━━━━━━━━━━━━\u001b[0m\u001b[37m\u001b[0m \u001b[1m35s\u001b[0m 726ms/step - accuracy: 0.9680 - loss: 0.0902 - val_accuracy: 0.7963 - val_loss: 1.0254\n",
            "Epoch 91/100\n",
            "\u001b[1m49/49\u001b[0m \u001b[32m━━━━━━━━━━━━━━━━━━━━\u001b[0m\u001b[37m\u001b[0m \u001b[1m31s\u001b[0m 628ms/step - accuracy: 0.9707 - loss: 0.1035 - val_accuracy: 0.8277 - val_loss: 0.7951\n",
            "Epoch 92/100\n",
            "\u001b[1m49/49\u001b[0m \u001b[32m━━━━━━━━━━━━━━━━━━━━\u001b[0m\u001b[37m\u001b[0m \u001b[1m31s\u001b[0m 628ms/step - accuracy: 0.9630 - loss: 0.1142 - val_accuracy: 0.8303 - val_loss: 0.7146\n",
            "Epoch 93/100\n",
            "\u001b[1m49/49\u001b[0m \u001b[32m━━━━━━━━━━━━━━━━━━━━\u001b[0m\u001b[37m\u001b[0m \u001b[1m32s\u001b[0m 645ms/step - accuracy: 0.9662 - loss: 0.1111 - val_accuracy: 0.8329 - val_loss: 0.6899\n",
            "Epoch 94/100\n",
            "\u001b[1m49/49\u001b[0m \u001b[32m━━━━━━━━━━━━━━━━━━━━\u001b[0m\u001b[37m\u001b[0m \u001b[1m31s\u001b[0m 633ms/step - accuracy: 0.9824 - loss: 0.0594 - val_accuracy: 0.7963 - val_loss: 0.8536\n",
            "Epoch 95/100\n",
            "\u001b[1m49/49\u001b[0m \u001b[32m━━━━━━━━━━━━━━━━━━━━\u001b[0m\u001b[37m\u001b[0m \u001b[1m31s\u001b[0m 627ms/step - accuracy: 0.9762 - loss: 0.0814 - val_accuracy: 0.8407 - val_loss: 0.7892\n",
            "Epoch 96/100\n",
            "\u001b[1m49/49\u001b[0m \u001b[32m━━━━━━━━━━━━━━━━━━━━\u001b[0m\u001b[37m\u001b[0m \u001b[1m32s\u001b[0m 650ms/step - accuracy: 0.9583 - loss: 0.1138 - val_accuracy: 0.8146 - val_loss: 0.8791\n",
            "Epoch 97/100\n",
            "\u001b[1m49/49\u001b[0m \u001b[32m━━━━━━━━━━━━━━━━━━━━\u001b[0m\u001b[37m\u001b[0m \u001b[1m31s\u001b[0m 629ms/step - accuracy: 0.9803 - loss: 0.0654 - val_accuracy: 0.8407 - val_loss: 0.6951\n",
            "Epoch 98/100\n",
            "\u001b[1m49/49\u001b[0m \u001b[32m━━━━━━━━━━━━━━━━━━━━\u001b[0m\u001b[37m\u001b[0m \u001b[1m31s\u001b[0m 627ms/step - accuracy: 0.9668 - loss: 0.1240 - val_accuracy: 0.8068 - val_loss: 0.7270\n",
            "Epoch 99/100\n",
            "\u001b[1m49/49\u001b[0m \u001b[32m━━━━━━━━━━━━━━━━━━━━\u001b[0m\u001b[37m\u001b[0m \u001b[1m35s\u001b[0m 726ms/step - accuracy: 0.9686 - loss: 0.0920 - val_accuracy: 0.8251 - val_loss: 0.9165\n",
            "Epoch 100/100\n",
            "\u001b[1m49/49\u001b[0m \u001b[32m━━━━━━━━━━━━━━━━━━━━\u001b[0m\u001b[37m\u001b[0m \u001b[1m31s\u001b[0m 628ms/step - accuracy: 0.9748 - loss: 0.0796 - val_accuracy: 0.8016 - val_loss: 0.7765\n"
          ]
        }
      ],
      "source": [
        "history = model.fit(\n",
        "    train_generator,\n",
        "    validation_data=val_generator,\n",
        "    epochs=100\n",
        ")\n"
      ]
    },
    {
      "cell_type": "markdown",
      "metadata": {
        "id": "2LuYk0PqRbKe"
      },
      "source": [
        "# Evaluate & Visualize Results"
      ]
    },
    {
      "cell_type": "markdown",
      "metadata": {
        "id": "v1oNFfx0RbHA"
      },
      "source": []
    },
    {
      "cell_type": "code",
      "execution_count": 53,
      "metadata": {
        "colab": {
          "base_uri": "https://localhost:8080/",
          "height": 452
        },
        "id": "hZed0pMSRazK",
        "outputId": "3e2cd37d-7692-4c1c-ee40-6c7ff0a120e1"
      },
      "outputs": [
        {
          "data": {
            "image/png": "[encoded data removed]",
            "text/plain": [
              "<Figure size 640x480 with 1 Axes>"
            ]
          },
          "metadata": {},
          "output_type": "display_data"
        }
      ],
      "source": [
        "plt.plot(history.history['accuracy'], label='Train Accuracy')\n",
        "plt.plot(history.history['val_accuracy'], label='Validation Accuracy')\n",
        "plt.legend()\n",
        "plt.title(\"Accuracy\")\n",
        "plt.show()"
      ]
    },
    {
      "cell_type": "markdown",
      "metadata": {
        "id": "Qbdoq0NIRk1J"
      },
      "source": [
        "# Save the Model"
      ]
    },
    {
      "cell_type": "code",
      "execution_count": 54,
      "metadata": {
        "colab": {
          "base_uri": "https://localhost:8080/"
        },
        "id": "79SL5SZeRpPT",
        "outputId": "e2f4726a-e0d3-4daa-d660-9fa3c92967c6"
      },
      "outputs": [
        {
          "name": "stderr",
          "output_type": "stream",
          "text": [
            "WARNING:absl:You are saving your model as an HDF5 file via `model.save()` or `keras.saving.save_model(model)`. This file format is considered legacy. We recommend using instead the native Keras format, e.g. `model.save('my_model.keras')` or `keras.saving.save_model(model, 'my_model.keras')`. \n"
          ]
        }
      ],
      "source": [
        "model.save('/content/drive/MyDrive/animal_classifier_model.h5')"
      ]
    },
    {
      "cell_type": "markdown",
      "metadata": {
        "id": "KjxLEH_0kiz8"
      },
      "source": [
        "# Predicting  Images"
      ]
    },
    {
      "cell_type": "code",
      "execution_count": 55,
      "metadata": {
        "colab": {
          "base_uri": "https://localhost:8080/"
        },
        "id": "DUjXRIfekiE3",
        "outputId": "c723d5da-6242-45d9-e238-0a30743484de"
      },
      "outputs": [
        {
          "name": "stdout",
          "output_type": "stream",
          "text": [
            "\u001b[1m1/1\u001b[0m \u001b[32m━━━━━━━━━━━━━━━━━━━━\u001b[0m\u001b[37m\u001b[0m \u001b[1m3s\u001b[0m 3s/step\n",
            "Predicted Class: Cat\n"
          ]
        }
      ],
      "source": [
        "from tensorflow.keras.preprocessing import image\n",
        "\n",
        "img_path = \"/content/drive/MyDrive/Animal Classification/dataset/Cat/Cat_3_3.jpg\"\n",
        "img = image.load_img(img_path, target_size=(224, 224))\n",
        "img_array = image.img_to_array(img) / 255.0\n",
        "img_array = np.expand_dims(img_array, axis=0)\n",
        "\n",
        "pred = model.predict(img_array)\n",
        "class_names = list(train_generator.class_indices.keys())\n",
        "print(\"Predicted Class:\", class_names[np.argmax(pred)])\n"
      ]
    },
    {
      "cell_type": "code",
      "execution_count": 56,
      "metadata": {
        "colab": {
          "base_uri": "https://localhost:8080/"
        },
        "id": "2Fe01pUTl-xB",
        "outputId": "284653ae-9ee2-4c21-b845-f9c87718e5bd"
      },
      "outputs": [
        {
          "name": "stderr",
          "output_type": "stream",
          "text": [
            "WARNING:absl:You are saving your model as an HDF5 file via `model.save()` or `keras.saving.save_model(model)`. This file format is considered legacy. We recommend using instead the native Keras format, e.g. `model.save('my_model.keras')` or `keras.saving.save_model(model, 'my_model.keras')`. \n"
          ]
        }
      ],
      "source": [
        "model.save('/content/drive/MyDrive/animal_classifier_model_v2.h5')\n"
      ]
    },
    {
      "cell_type": "code",
      "execution_count": 57,
      "metadata": {
        "id": "fQT-GWYnkeNI"
      },
      "outputs": [],
      "source": [
        "\n",
        "from keras.saving import save_model\n",
        "save_model(model, \"animal_classifier_model.keras\")"
      ]
    }
  ],
  "metadata": {
    "accelerator": "GPU",
    "colab": {
      "gpuType": "T4",
      "provenance": []
    },
    "kernelspec": {
      "display_name": "Python 3",
      "name": "python3"
    },
    "language_info": {
      "name": "python"
    }
  },
  "nbformat": 4,
  "nbformat_minor": 0
}
